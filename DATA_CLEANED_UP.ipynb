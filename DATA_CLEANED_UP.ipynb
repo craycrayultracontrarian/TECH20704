{
 "cells": [
  {
   "cell_type": "code",
   "execution_count": 1,
   "metadata": {},
   "outputs": [],
   "source": [
    "#CLEANING UP DATA STEP - CYPRIEN"
   ]
  },
  {
   "cell_type": "code",
   "execution_count": 87,
   "metadata": {},
   "outputs": [],
   "source": [
    "import pandas\n",
    "\n",
    "data = pandas.read_csv(\"WA_Fn-UseC_-Telco-Customer-Churn.csv\")"
   ]
  },
  {
   "cell_type": "code",
   "execution_count": 89,
   "metadata": {},
   "outputs": [
    {
     "name": "stdout",
     "output_type": "stream",
     "text": [
      "   customerID  gender  SeniorCitizen Partner Dependents  tenure PhoneService  \\\n",
      "0  7590-VHVEG  Female              0     Yes         No       1           No   \n",
      "1  5575-GNVDE    Male              0      No         No      34          Yes   \n",
      "2  3668-QPYBK    Male              0      No         No       2          Yes   \n",
      "3  7795-CFOCW    Male              0      No         No      45           No   \n",
      "4  9237-HQITU  Female              0      No         No       2          Yes   \n",
      "\n",
      "      MultipleLines InternetService OnlineSecurity  ... DeviceProtection  \\\n",
      "0  No phone service             DSL             No  ...               No   \n",
      "1                No             DSL            Yes  ...              Yes   \n",
      "2                No             DSL            Yes  ...               No   \n",
      "3  No phone service             DSL            Yes  ...              Yes   \n",
      "4                No     Fiber optic             No  ...               No   \n",
      "\n",
      "  TechSupport StreamingTV StreamingMovies        Contract PaperlessBilling  \\\n",
      "0          No          No              No  Month-to-month              Yes   \n",
      "1          No          No              No        One year               No   \n",
      "2          No          No              No  Month-to-month              Yes   \n",
      "3         Yes          No              No        One year               No   \n",
      "4          No          No              No  Month-to-month              Yes   \n",
      "\n",
      "               PaymentMethod MonthlyCharges  TotalCharges Churn  \n",
      "0           Electronic check          29.85         29.85    No  \n",
      "1               Mailed check          56.95        1889.5    No  \n",
      "2               Mailed check          53.85        108.15   Yes  \n",
      "3  Bank transfer (automatic)          42.30       1840.75    No  \n",
      "4           Electronic check          70.70        151.65   Yes  \n",
      "\n",
      "[5 rows x 21 columns]\n"
     ]
    }
   ],
   "source": [
    "print(data.head())"
   ]
  },
  {
   "cell_type": "code",
   "execution_count": 91,
   "metadata": {},
   "outputs": [
    {
     "name": "stdout",
     "output_type": "stream",
     "text": [
      "<class 'pandas.core.frame.DataFrame'>\n",
      "RangeIndex: 7043 entries, 0 to 7042\n",
      "Data columns (total 21 columns):\n",
      " #   Column            Non-Null Count  Dtype  \n",
      "---  ------            --------------  -----  \n",
      " 0   customerID        7043 non-null   object \n",
      " 1   gender            7043 non-null   object \n",
      " 2   SeniorCitizen     7043 non-null   int64  \n",
      " 3   Partner           7043 non-null   object \n",
      " 4   Dependents        7043 non-null   object \n",
      " 5   tenure            7043 non-null   int64  \n",
      " 6   PhoneService      7043 non-null   object \n",
      " 7   MultipleLines     7043 non-null   object \n",
      " 8   InternetService   7043 non-null   object \n",
      " 9   OnlineSecurity    7043 non-null   object \n",
      " 10  OnlineBackup      7043 non-null   object \n",
      " 11  DeviceProtection  7043 non-null   object \n",
      " 12  TechSupport       7043 non-null   object \n",
      " 13  StreamingTV       7043 non-null   object \n",
      " 14  StreamingMovies   7043 non-null   object \n",
      " 15  Contract          7043 non-null   object \n",
      " 16  PaperlessBilling  7043 non-null   object \n",
      " 17  PaymentMethod     7043 non-null   object \n",
      " 18  MonthlyCharges    7043 non-null   float64\n",
      " 19  TotalCharges      7043 non-null   object \n",
      " 20  Churn             7043 non-null   object \n",
      "dtypes: float64(1), int64(2), object(18)\n",
      "memory usage: 1.1+ MB\n",
      "None\n"
     ]
    }
   ],
   "source": [
    "print(data.info())"
   ]
  },
  {
   "cell_type": "code",
   "execution_count": 93,
   "metadata": {},
   "outputs": [],
   "source": [
    "#drop irrelevant/unimportant columns \n",
    "\n",
    "columns_to_keep = [\n",
    "    'customerID', 'SeniorCitizen', 'Partner', 'Dependents', 'tenure', 'InternetService', \n",
    "    'OnlineSecurity', 'OnlineBackup', 'DeviceProtection', 'TechSupport', \n",
    "    'StreamingMovies', 'Contract', 'PaperlessBilling', 'PaymentMethod', \n",
    "    'MonthlyCharges', 'Churn'\n",
    "]\n",
    "\n",
    "# Reassign 'data' to only include these columns\n",
    "data = data[columns_to_keep]"
   ]
  },
  {
   "cell_type": "code",
   "execution_count": 95,
   "metadata": {},
   "outputs": [
    {
     "name": "stdout",
     "output_type": "stream",
     "text": [
      "   customerID  SeniorCitizen Partner Dependents  tenure InternetService  \\\n",
      "0  7590-VHVEG              0     Yes         No       1             DSL   \n",
      "1  5575-GNVDE              0      No         No      34             DSL   \n",
      "2  3668-QPYBK              0      No         No       2             DSL   \n",
      "3  7795-CFOCW              0      No         No      45             DSL   \n",
      "4  9237-HQITU              0      No         No       2     Fiber optic   \n",
      "\n",
      "  OnlineSecurity OnlineBackup DeviceProtection TechSupport StreamingMovies  \\\n",
      "0             No          Yes               No          No              No   \n",
      "1            Yes           No              Yes          No              No   \n",
      "2            Yes          Yes               No          No              No   \n",
      "3            Yes           No              Yes         Yes              No   \n",
      "4             No           No               No          No              No   \n",
      "\n",
      "         Contract PaperlessBilling              PaymentMethod  MonthlyCharges  \\\n",
      "0  Month-to-month              Yes           Electronic check           29.85   \n",
      "1        One year               No               Mailed check           56.95   \n",
      "2  Month-to-month              Yes               Mailed check           53.85   \n",
      "3        One year               No  Bank transfer (automatic)           42.30   \n",
      "4  Month-to-month              Yes           Electronic check           70.70   \n",
      "\n",
      "  Churn  \n",
      "0    No  \n",
      "1    No  \n",
      "2   Yes  \n",
      "3    No  \n",
      "4   Yes  \n"
     ]
    }
   ],
   "source": [
    "print(data.head())"
   ]
  },
  {
   "cell_type": "code",
   "execution_count": 99,
   "metadata": {},
   "outputs": [],
   "source": [
    "# Manually map 'Yes' to 1 and 'No' to 0 for specific columns\n",
    "yes_no_columns = [\n",
    "    'Partner',\n",
    "    'Dependents',\n",
    "    'PaperlessBilling',\n",
    "    'Churn',\n",
    "    'OnlineSecurity',\n",
    "    'OnlineBackup',\n",
    "    'DeviceProtection',\n",
    "    'TechSupport',\n",
    "    'StreamingMovies'\n",
    "]\n",
    "\n",
    "# Replace 'Yes' with 1 and 'No' with 0 in each specified column\n",
    "for column in yes_no_columns:\n",
    "    data[column] = data[column].replace({'Yes': 1, 'No': 0})\n"
   ]
  },
  {
   "cell_type": "code",
   "execution_count": 101,
   "metadata": {},
   "outputs": [
    {
     "name": "stdout",
     "output_type": "stream",
     "text": [
      "   customerID  SeniorCitizen  Partner  Dependents  tenure InternetService  \\\n",
      "0  7590-VHVEG              0        1           0       1             DSL   \n",
      "1  5575-GNVDE              0        0           0      34             DSL   \n",
      "2  3668-QPYBK              0        0           0       2             DSL   \n",
      "3  7795-CFOCW              0        0           0      45             DSL   \n",
      "4  9237-HQITU              0        0           0       2     Fiber optic   \n",
      "\n",
      "  OnlineSecurity OnlineBackup DeviceProtection TechSupport StreamingMovies  \\\n",
      "0              0            1                0           0               0   \n",
      "1              1            0                1           0               0   \n",
      "2              1            1                0           0               0   \n",
      "3              1            0                1           1               0   \n",
      "4              0            0                0           0               0   \n",
      "\n",
      "         Contract  PaperlessBilling              PaymentMethod  \\\n",
      "0  Month-to-month                 1           Electronic check   \n",
      "1        One year                 0               Mailed check   \n",
      "2  Month-to-month                 1               Mailed check   \n",
      "3        One year                 0  Bank transfer (automatic)   \n",
      "4  Month-to-month                 1           Electronic check   \n",
      "\n",
      "   MonthlyCharges  Churn  \n",
      "0           29.85      0  \n",
      "1           56.95      0  \n",
      "2           53.85      1  \n",
      "3           42.30      0  \n",
      "4           70.70      1  \n"
     ]
    }
   ],
   "source": [
    "print(data.head())"
   ]
  },
  {
   "cell_type": "code",
   "execution_count": 103,
   "metadata": {},
   "outputs": [
    {
     "name": "stdout",
     "output_type": "stream",
     "text": [
      "   customerID  SeniorCitizen  Partner  Dependents  tenure OnlineSecurity  \\\n",
      "0  7590-VHVEG              0        1           0       1              0   \n",
      "1  5575-GNVDE              0        0           0      34              1   \n",
      "2  3668-QPYBK              0        0           0       2              1   \n",
      "3  7795-CFOCW              0        0           0      45              1   \n",
      "4  9237-HQITU              0        0           0       2              0   \n",
      "\n",
      "  OnlineBackup DeviceProtection TechSupport StreamingMovies  ...  \\\n",
      "0            1                0           0               0  ...   \n",
      "1            0                1           0               0  ...   \n",
      "2            1                0           0               0  ...   \n",
      "3            0                1           1               0  ...   \n",
      "4            0                0           0               0  ...   \n",
      "\n",
      "   InternetService_DSL  InternetService_FiberOptic  InternetService_No  \\\n",
      "0                    1                           0                   0   \n",
      "1                    1                           0                   0   \n",
      "2                    1                           0                   0   \n",
      "3                    1                           0                   0   \n",
      "4                    0                           1                   0   \n",
      "\n",
      "   Contract_MonthToMonth  Contract_OneYear  Contract_TwoYear  \\\n",
      "0                      1                 0                 0   \n",
      "1                      0                 1                 0   \n",
      "2                      1                 0                 0   \n",
      "3                      0                 1                 0   \n",
      "4                      1                 0                 0   \n",
      "\n",
      "   PaymentMethod_BankTransfer  PaymentMethod_CreditCard  \\\n",
      "0                           0                         0   \n",
      "1                           0                         0   \n",
      "2                           0                         0   \n",
      "3                           1                         0   \n",
      "4                           0                         0   \n",
      "\n",
      "   PaymentMethod_ElectronicCheck  PaymentMethod_MailedCheck  \n",
      "0                              1                          0  \n",
      "1                              0                          1  \n",
      "2                              0                          1  \n",
      "3                              0                          0  \n",
      "4                              1                          0  \n",
      "\n",
      "[5 rows x 23 columns]\n"
     ]
    }
   ],
   "source": [
    "# create binary columns for each category in 'InternetService'\n",
    "data['InternetService_DSL'] = (data['InternetService'] == 'DSL').astype(int)\n",
    "data['InternetService_FiberOptic'] = (data['InternetService'] == 'Fiber optic').astype(int)\n",
    "data['InternetService_No'] = (data['InternetService'] == 'No').astype(int)\n",
    "\n",
    "# create binary columns for each category in 'Contract'\n",
    "data['Contract_MonthToMonth'] = (data['Contract'] == 'Month-to-month').astype(int)\n",
    "data['Contract_OneYear'] = (data['Contract'] == 'One year').astype(int)\n",
    "data['Contract_TwoYear'] = (data['Contract'] == 'Two year').astype(int)\n",
    "\n",
    "# create binary columns for each category in 'PaymentMethod'\n",
    "data['PaymentMethod_BankTransfer'] = (data['PaymentMethod'] == 'Bank transfer (automatic)').astype(int)\n",
    "data['PaymentMethod_CreditCard'] = (data['PaymentMethod'] == 'Credit card (automatic)').astype(int)\n",
    "data['PaymentMethod_ElectronicCheck'] = (data['PaymentMethod'] == 'Electronic check').astype(int)\n",
    "data['PaymentMethod_MailedCheck'] = (data['PaymentMethod'] == 'Mailed check').astype(int)\n",
    "\n",
    "# Specify the columns you want to keep in the dataset\n",
    "columns_to_keep = [col for col in data.columns if col not in ['InternetService', 'Contract', 'PaymentMethod']]\n",
    "\n",
    "# Reassign data to only include the specified columns\n",
    "data = data[columns_to_keep]\n",
    "\n",
    "# Display the first few rows to verify the new binary columns\n",
    "print(data.head())"
   ]
  },
  {
   "cell_type": "code",
   "execution_count": 105,
   "metadata": {},
   "outputs": [
    {
     "name": "stdout",
     "output_type": "stream",
     "text": [
      "   customerID  SeniorCitizen  Partner  Dependents tenure OnlineSecurity  \\\n",
      "0  7590-VHVEG              0        1           0   0-10              0   \n",
      "1  5575-GNVDE              0        0           0  30-50              1   \n",
      "2  3668-QPYBK              0        0           0   0-10              1   \n",
      "3  7795-CFOCW              0        0           0  30-50              1   \n",
      "4  9237-HQITU              0        0           0   0-10              0   \n",
      "\n",
      "  OnlineBackup DeviceProtection TechSupport StreamingMovies  ...  \\\n",
      "0            1                0           0               0  ...   \n",
      "1            0                1           0               0  ...   \n",
      "2            1                0           0               0  ...   \n",
      "3            0                1           1               0  ...   \n",
      "4            0                0           0               0  ...   \n",
      "\n",
      "   InternetService_DSL InternetService_FiberOptic  InternetService_No  \\\n",
      "0                    1                          0                   0   \n",
      "1                    1                          0                   0   \n",
      "2                    1                          0                   0   \n",
      "3                    1                          0                   0   \n",
      "4                    0                          1                   0   \n",
      "\n",
      "   Contract_MonthToMonth  Contract_OneYear  Contract_TwoYear  \\\n",
      "0                      1                 0                 0   \n",
      "1                      0                 1                 0   \n",
      "2                      1                 0                 0   \n",
      "3                      0                 1                 0   \n",
      "4                      1                 0                 0   \n",
      "\n",
      "   PaymentMethod_BankTransfer  PaymentMethod_CreditCard  \\\n",
      "0                           0                         0   \n",
      "1                           0                         0   \n",
      "2                           0                         0   \n",
      "3                           1                         0   \n",
      "4                           0                         0   \n",
      "\n",
      "   PaymentMethod_ElectronicCheck  PaymentMethod_MailedCheck  \n",
      "0                              1                          0  \n",
      "1                              0                          1  \n",
      "2                              0                          1  \n",
      "3                              0                          0  \n",
      "4                              1                          0  \n",
      "\n",
      "[5 rows x 23 columns]\n"
     ]
    }
   ],
   "source": [
    "# Define function to categorize tenure\n",
    "def categorize_tenure(tenure):\n",
    "    if tenure < 10:\n",
    "        return '0-10'\n",
    "    elif tenure < 30:\n",
    "        return '10-30'\n",
    "    elif tenure < 50:\n",
    "        return '30-50'\n",
    "    elif tenure < 70:\n",
    "        return '50-70'\n",
    "    elif tenure < 100:\n",
    "        return '70-100'\n",
    "    else:\n",
    "        return '100+'\n",
    "\n",
    "# Apply the function to the 'tenure' column and overwrite it with categorical values\n",
    "data['tenure'] = data['tenure'].apply(categorize_tenure)\n",
    "\n",
    "# Define function to categorize MonthlyCharges\n",
    "def categorize_monthly_charges(charge):\n",
    "    if charge < 25:\n",
    "        return '0-25'\n",
    "    elif charge < 50:\n",
    "        return '25-50'\n",
    "    elif charge < 75:\n",
    "        return '50-75'\n",
    "    elif charge < 100:\n",
    "        return '75-100'\n",
    "    else:\n",
    "        return '100+'\n",
    "\n",
    "# Apply the function to the 'MonthlyCharges' column and overwrite it with categorical values\n",
    "data['MonthlyCharges'] = data['MonthlyCharges'].apply(categorize_monthly_charges)\n",
    "\n",
    "# Display the first few rows to verify the changes\n",
    "print(data.head())"
   ]
  },
  {
   "cell_type": "code",
   "execution_count": null,
   "metadata": {},
   "outputs": [],
   "source": []
  }
 ],
 "metadata": {
  "kernelspec": {
   "display_name": "Python 3 (ipykernel)",
   "language": "python",
   "name": "python3"
  },
  "language_info": {
   "codemirror_mode": {
    "name": "ipython",
    "version": 3
   },
   "file_extension": ".py",
   "mimetype": "text/x-python",
   "name": "python",
   "nbconvert_exporter": "python",
   "pygments_lexer": "ipython3",
   "version": "3.12.4"
  }
 },
 "nbformat": 4,
 "nbformat_minor": 4
}
